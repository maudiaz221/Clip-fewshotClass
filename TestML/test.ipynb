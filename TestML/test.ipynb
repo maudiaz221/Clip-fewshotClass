{
 "cells": [
  {
   "cell_type": "code",
   "execution_count": 2,
   "metadata": {},
   "outputs": [
    {
     "name": "stdout",
     "output_type": "stream",
     "text": [
      "        Filenames   Food_x   Food_y\n",
      "0         228.jpg     food     food\n",
      "1         229.jpg     food  No food\n",
      "2         413.jpg     food     food\n",
      "3         363.jpg     food  No food\n",
      "4   image_740.jpg  No food     food\n",
      "..            ...      ...      ...\n",
      "95  image_623.jpg  No food     food\n",
      "96         48.jpg     food     food\n",
      "97        360.jpg     food     food\n",
      "98  image_741.jpg  No food     food\n",
      "99         76.jpg     food     food\n",
      "\n",
      "[100 rows x 3 columns]\n",
      "Total images: 100\n",
      "Correct predictions: 43\n",
      "Accuracy: 43.00%\n"
     ]
    }
   ],
   "source": [
    "import pandas as pd\n",
    "\n",
    "# Load the ground truth CSV file\n",
    "ground_truth_file = 'test_labels.csv'\n",
    "df_ground_truth = pd.read_csv(ground_truth_file)\n",
    "\n",
    "# Load the predicted CSV file\n",
    "predicted_file = 'food.csv'\n",
    "df_predicted = pd.read_csv(predicted_file)\n",
    "\n",
    "# Merge the dataframes on the 'Image' column\n",
    "df_merged = pd.merge(df_ground_truth, df_predicted, on='Filenames')\n",
    "print(df_merged)\n",
    "# Compare the labels\n",
    "correct_predictions = (df_merged['Food_x'] == df_merged['Food_y']).sum()\n",
    "total_images = len(df_merged)\n",
    "\n",
    "# Calculate accuracy\n",
    "accuracy = correct_predictions / total_images\n",
    "\n",
    "print(f\"Total images: {total_images}\")\n",
    "print(f\"Correct predictions: {correct_predictions}\")\n",
    "print(f\"Accuracy: {accuracy * 100:.2f}%\")"
   ]
  },
  {
   "cell_type": "code",
   "execution_count": 10,
   "metadata": {},
   "outputs": [
    {
     "name": "stdout",
     "output_type": "stream",
     "text": [
      "         Filenames   Food_x   Food_y\n",
      "0          228.jpg     food  No food\n",
      "1    image_696.jpg  No food  No food\n",
      "2          229.jpg     food  No food\n",
      "3          413.jpg     food  No food\n",
      "4          363.jpg     food  No food\n",
      "..             ...      ...      ...\n",
      "345        173.jpg     food  No food\n",
      "346        171.jpg     food  No food\n",
      "347  image_741.jpg  No food  No food\n",
      "348         70.jpg     food  No food\n",
      "349         76.jpg     food  No food\n",
      "\n",
      "[350 rows x 3 columns]\n",
      "Total images: 350\n",
      "Correct predictions: 188\n",
      "Accuracy: 53.71%\n"
     ]
    }
   ],
   "source": [
    "predicted_file = 'food0.csv'\n",
    "df_predicted = pd.read_csv(predicted_file)\n",
    "\n",
    "# Merge the dataframes on the 'Image' column\n",
    "df_merged = pd.merge(df_ground_truth, df_predicted, on='Filenames')\n",
    "print(df_merged)\n",
    "# Compare the labels\n",
    "correct_predictions = (df_merged['Food_x'] == df_merged['Food_y']).sum()\n",
    "total_images = len(df_merged)\n",
    "\n",
    "# Calculate accuracy\n",
    "accuracy = correct_predictions / total_images\n",
    "\n",
    "print(f\"Total images: {total_images}\")\n",
    "print(f\"Correct predictions: {correct_predictions}\")\n",
    "print(f\"Accuracy: {accuracy * 100:.2f}%\")"
   ]
  },
  {
   "cell_type": "code",
   "execution_count": 11,
   "metadata": {},
   "outputs": [
    {
     "name": "stdout",
     "output_type": "stream",
     "text": [
      "         Filenames   Food_x   Food_y\n",
      "0          228.jpg     food     food\n",
      "1    image_696.jpg  No food     food\n",
      "2          229.jpg     food     food\n",
      "3          413.jpg     food  No food\n",
      "4          363.jpg     food     food\n",
      "..             ...      ...      ...\n",
      "345        173.jpg     food     food\n",
      "346        171.jpg     food  No food\n",
      "347  image_741.jpg  No food     food\n",
      "348         70.jpg     food  No food\n",
      "349         76.jpg     food     food\n",
      "\n",
      "[350 rows x 3 columns]\n",
      "Total images: 350\n",
      "Correct predictions: 149\n",
      "Accuracy: 42.57%\n"
     ]
    }
   ],
   "source": [
    "predicted_file = 'food01.csv'\n",
    "df_predicted = pd.read_csv(predicted_file)\n",
    "\n",
    "# Merge the dataframes on the 'Image' column\n",
    "df_merged = pd.merge(df_ground_truth, df_predicted, on='Filenames')\n",
    "print(df_merged)\n",
    "# Compare the labels\n",
    "correct_predictions = (df_merged['Food_x'] == df_merged['Food_y']).sum()\n",
    "total_images = len(df_merged)\n",
    "\n",
    "# Calculate accuracy\n",
    "accuracy = correct_predictions / total_images\n",
    "\n",
    "print(f\"Total images: {total_images}\")\n",
    "print(f\"Correct predictions: {correct_predictions}\")\n",
    "print(f\"Accuracy: {accuracy * 100:.2f}%\")"
   ]
  },
  {
   "cell_type": "code",
   "execution_count": 5,
   "metadata": {},
   "outputs": [
    {
     "name": "stdout",
     "output_type": "stream",
     "text": [
      "        Filenames   Food_x   Food_y\n",
      "0         228.jpg     food  No food\n",
      "1         229.jpg     food  No food\n",
      "2         413.jpg     food  No food\n",
      "3         363.jpg     food  No food\n",
      "4   image_740.jpg  No food  No food\n",
      "..            ...      ...      ...\n",
      "95  image_623.jpg  No food  No food\n",
      "96         48.jpg     food  No food\n",
      "97        360.jpg     food  No food\n",
      "98  image_741.jpg  No food  No food\n",
      "99         76.jpg     food  No food\n",
      "\n",
      "[100 rows x 3 columns]\n",
      "Total images: 100\n",
      "Correct predictions: 58\n",
      "Accuracy: 58.00%\n"
     ]
    }
   ],
   "source": [
    "predicted_file = 'food012.csv'\n",
    "df_predicted = pd.read_csv(predicted_file)\n",
    "\n",
    "# Merge the dataframes on the 'Image' column\n",
    "df_merged = pd.merge(df_ground_truth, df_predicted, on='Filenames')\n",
    "print(df_merged)\n",
    "# Compare the labels\n",
    "correct_predictions = (df_merged['Food_x'] == df_merged['Food_y']).sum()\n",
    "total_images = len(df_merged)\n",
    "\n",
    "# Calculate accuracy\n",
    "accuracy = correct_predictions / total_images\n",
    "\n",
    "print(f\"Total images: {total_images}\")\n",
    "print(f\"Correct predictions: {correct_predictions}\")\n",
    "print(f\"Accuracy: {accuracy * 100:.2f}%\")"
   ]
  },
  {
   "cell_type": "code",
   "execution_count": 17,
   "metadata": {},
   "outputs": [
    {
     "name": "stdout",
     "output_type": "stream",
     "text": [
      "        Filenames   Food_x   Food_y\n",
      "0         228.jpg     food  No food\n",
      "1         229.jpg     food     food\n",
      "2         413.jpg     food     food\n",
      "3         363.jpg     food     food\n",
      "4   image_740.jpg  No food     food\n",
      "..            ...      ...      ...\n",
      "95  image_623.jpg  No food  No food\n",
      "96         48.jpg     food     food\n",
      "97        360.jpg     food     food\n",
      "98  image_741.jpg  No food     food\n",
      "99         76.jpg     food  No food\n",
      "\n",
      "[100 rows x 3 columns]\n",
      "Total images: 100\n",
      "Correct predictions: 56\n",
      "Accuracy: 56.00%\n"
     ]
    }
   ],
   "source": [
    "predicted_file = 'food0123.csv'\n",
    "df_predicted = pd.read_csv(predicted_file)\n",
    "\n",
    "# Merge the dataframes on the 'Image' column\n",
    "df_merged = pd.merge(df_ground_truth, df_predicted, on='Filenames')\n",
    "print(df_merged)\n",
    "# Compare the labels\n",
    "correct_predictions = (df_merged['Food_x'] == df_merged['Food_y']).sum()\n",
    "total_images = len(df_merged)\n",
    "\n",
    "# Calculate accuracy\n",
    "accuracy = correct_predictions / total_images\n",
    "\n",
    "print(f\"Total images: {total_images}\")\n",
    "print(f\"Correct predictions: {correct_predictions}\")\n",
    "print(f\"Accuracy: {accuracy * 100:.2f}%\")"
   ]
  },
  {
   "cell_type": "code",
   "execution_count": 18,
   "metadata": {},
   "outputs": [
    {
     "name": "stdout",
     "output_type": "stream",
     "text": [
      "        Filenames   Food_x Food_y\n",
      "0         228.jpg     food   food\n",
      "1         229.jpg     food   food\n",
      "2         413.jpg     food   food\n",
      "3         363.jpg     food   food\n",
      "4   image_740.jpg  No food   food\n",
      "..            ...      ...    ...\n",
      "95  image_623.jpg  No food   food\n",
      "96         48.jpg     food   food\n",
      "97        360.jpg     food   food\n",
      "98  image_741.jpg  No food   food\n",
      "99         76.jpg     food   food\n",
      "\n",
      "[100 rows x 3 columns]\n",
      "Total images: 100\n",
      "Correct predictions: 42\n",
      "Accuracy: 42.00%\n"
     ]
    }
   ],
   "source": [
    "predicted_file = 'food01234.csv'\n",
    "df_predicted = pd.read_csv(predicted_file)\n",
    "\n",
    "# Merge the dataframes on the 'Image' column\n",
    "df_merged = pd.merge(df_ground_truth, df_predicted, on='Filenames')\n",
    "print(df_merged)\n",
    "# Compare the labels\n",
    "correct_predictions = (df_merged['Food_x'] == df_merged['Food_y']).sum()\n",
    "total_images = len(df_merged)\n",
    "\n",
    "# Calculate accuracy\n",
    "accuracy = correct_predictions / total_images\n",
    "\n",
    "print(f\"Total images: {total_images}\")\n",
    "print(f\"Correct predictions: {correct_predictions}\")\n",
    "print(f\"Accuracy: {accuracy * 100:.2f}%\")"
   ]
  },
  {
   "cell_type": "code",
   "execution_count": null,
   "metadata": {},
   "outputs": [],
   "source": []
  }
 ],
 "metadata": {
  "kernelspec": {
   "display_name": "ml",
   "language": "python",
   "name": "python3"
  },
  "language_info": {
   "codemirror_mode": {
    "name": "ipython",
    "version": 3
   },
   "file_extension": ".py",
   "mimetype": "text/x-python",
   "name": "python",
   "nbconvert_exporter": "python",
   "pygments_lexer": "ipython3",
   "version": "3.12.1"
  }
 },
 "nbformat": 4,
 "nbformat_minor": 2
}
